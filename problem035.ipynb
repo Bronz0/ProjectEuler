{
 "cells": [
  {
   "cell_type": "code",
   "execution_count": 1,
   "metadata": {},
   "outputs": [],
   "source": [
    "from math import sqrt \n",
    "from time import time"
   ]
  },
  {
   "cell_type": "code",
   "execution_count": 2,
   "metadata": {},
   "outputs": [],
   "source": [
    "def rotate(num):\n",
    "    '''rotate the given number'''\n",
    "    num = [int(i) for i in str(num)]\n",
    "    r = num[len(num)-1:]\n",
    "    r.extend(num[:len(num)-1])\n",
    "    result =\"\"\n",
    "    for i in r: result+=str(i)\n",
    "    return int(result)"
   ]
  },
  {
   "cell_type": "code",
   "execution_count": 3,
   "metadata": {},
   "outputs": [],
   "source": [
    "def rotations(num):\n",
    "    '''returns all the possible rotations of the given number'''\n",
    "    rotations = []\n",
    "    for i in range(len(str(num))-1):\n",
    "        num = rotate(num)\n",
    "        rotations.append(num)\n",
    "    return rotations"
   ]
  },
  {
   "cell_type": "code",
   "execution_count": 4,
   "metadata": {},
   "outputs": [],
   "source": [
    "def isprime(n):\n",
    "    if  (n<2): return False\n",
    "    elif(n<4):return True;\n",
    "    else:\n",
    "        i = 2\n",
    "        while (i<=sqrt(n)):\n",
    "            if(n%i == 0): return False\n",
    "            i += 1\n",
    "        return True"
   ]
  },
  {
   "cell_type": "code",
   "execution_count": 5,
   "metadata": {},
   "outputs": [],
   "source": [
    "def solve():\n",
    "    i = 3\n",
    "    count = 1\n",
    "    while i < 1000000:\n",
    "        if(isprime(i) and all([isprime(j) for j in rotations(i)])):\n",
    "            count+=1\n",
    "        i+=1\n",
    "    print('Result:',count)"
   ]
  },
  {
   "cell_type": "code",
   "execution_count": 6,
   "metadata": {
    "scrolled": true
   },
   "outputs": [
    {
     "name": "stdout",
     "output_type": "stream",
     "text": [
      "Result: 55\n",
      "Execution time: 70.755 s\n"
     ]
    }
   ],
   "source": [
    "stime = time()\n",
    "solve()\n",
    "print('Execution time:', round(time()-stime, 3), 's')"
   ]
  },
  {
   "cell_type": "markdown",
   "metadata": {},
   "source": [
    "## Method 2\n",
    "In this method we're not going to generate all the rotations of the prime number and check them all if they are also primes or not, instead of that we're going to generate the rotations one by one and check each generated rotation if it's prime or not, so if we face a non prime rotation we just skip the rest of the rotations and pass to the next number"
   ]
  },
  {
   "cell_type": "code",
   "execution_count": 7,
   "metadata": {},
   "outputs": [],
   "source": [
    "def solve2():\n",
    "    i = 3\n",
    "    count = 1\n",
    "    while i < 1000000:\n",
    "        if(isprime(i)):\n",
    "            all_rotations_are_primes = True\n",
    "            num = i\n",
    "            for j in range(len(str(i))-1): # check if all rotations of i are primes\n",
    "                num = rotate(num)\n",
    "                if(not isprime(num)):\n",
    "                    all_rotations_are_primes = False\n",
    "                    break\n",
    "            if(all_rotations_are_primes): count+=1\n",
    "        i+=1\n",
    "    print('Result:',count)"
   ]
  },
  {
   "cell_type": "code",
   "execution_count": 8,
   "metadata": {},
   "outputs": [
    {
     "name": "stdout",
     "output_type": "stream",
     "text": [
      "Result: 55\n",
      "Execution time: 47.169 s\n"
     ]
    }
   ],
   "source": [
    "stime = time()\n",
    "solve2()\n",
    "print('Execution time:', round(time()-stime, 3), 's')"
   ]
  }
 ],
 "metadata": {
  "kernelspec": {
   "display_name": "Python 3",
   "language": "python",
   "name": "python3"
  },
  "language_info": {
   "codemirror_mode": {
    "name": "ipython",
    "version": 3
   },
   "file_extension": ".py",
   "mimetype": "text/x-python",
   "name": "python",
   "nbconvert_exporter": "python",
   "pygments_lexer": "ipython3",
   "version": "3.7.4"
  }
 },
 "nbformat": 4,
 "nbformat_minor": 2
}
