{
 "cells": [
  {
   "cell_type": "code",
   "execution_count": 1,
   "metadata": {},
   "outputs": [],
   "source": [
    "def get_recurring_cycle_from_fraction(num, den):\n",
    "    # store the result as a string\n",
    "    res = \"\"\n",
    "    \n",
    "    # store the reminders in a list\n",
    "    # if we see a remidner again that means we are groing throw the same operations\n",
    "    # (divisions) again, that's what's define a recuring cycle.\n",
    "    seen_reminders = []\n",
    "    \n",
    "    # find the first reminder\n",
    "    rsp = int(num/den) # get the integer part of the division\n",
    "    # get the lenght of the first response part\n",
    "    len_first_rsp = len(str(rsp))\n",
    "    rem = num - rsp\n",
    "    # keep finding reminders until either a the reminder becomes 0 or a reminder appears again.\n",
    "    while True: #((rem != 0) and (rem not in seen_reminders))\n",
    "        if rem == 0:\n",
    "            break\n",
    "        if rem in seen_reminders:\n",
    "            break\n",
    "        # store the current reminder\n",
    "        seen_reminders.append(rem)\n",
    "        # mutiply reminder by 10\n",
    "        rem = rem*10\n",
    "        # append result part to result\n",
    "        res = res+str(rsp)\n",
    "        \n",
    "        # find another reminder\n",
    "        rsp = int(rem/den) # get the integer part of the division\n",
    "        rem = rem - (den*rsp)\n",
    "    if (rem == 0):\n",
    "        return \"\"\n",
    "    else:\n",
    "        # append the last rsp and return the response without the int part\n",
    "        return res[len_first_rsp:]+str(rsp)"
   ]
  },
  {
   "cell_type": "code",
   "execution_count": 2,
   "metadata": {},
   "outputs": [
    {
     "data": {
      "text/plain": [
       "'27142857'"
      ]
     },
     "execution_count": 2,
     "metadata": {},
     "output_type": "execute_result"
    }
   ],
   "source": [
    "get_recurring_cycle_from_fraction(22,7)"
   ]
  },
  {
   "cell_type": "code",
   "execution_count": 3,
   "metadata": {},
   "outputs": [],
   "source": [
    "def get_longest_recuring_cycle(num, n):\n",
    "    longest = 0\n",
    "    len_longest = 0\n",
    "    for i in range(1,n+1):\n",
    "        rc = get_recurring_cycle_from_fraction(num, i)\n",
    "        if len(rc) > len_longest:\n",
    "            len_longest = len(rc)\n",
    "            longest = i\n",
    "    return longest, len_longest"
   ]
  },
  {
   "cell_type": "code",
   "execution_count": 4,
   "metadata": {},
   "outputs": [
    {
     "data": {
      "text/plain": [
       "(983, 982)"
      ]
     },
     "execution_count": 4,
     "metadata": {},
     "output_type": "execute_result"
    }
   ],
   "source": [
    "get_longest_recuring_cycle(1,1000)"
   ]
  },
  {
   "cell_type": "code",
   "execution_count": 5,
   "metadata": {},
   "outputs": [
    {
     "name": "stdout",
     "output_type": "stream",
     "text": [
      "512 ms ± 10.4 ms per loop (mean ± std. dev. of 7 runs, 10 loops each)\n"
     ]
    }
   ],
   "source": [
    "%%timeit\n",
    "get_longest_recuring_cycle(1,1000)"
   ]
  }
 ],
 "metadata": {
  "kernelspec": {
   "display_name": "Python 3",
   "language": "python",
   "name": "python3"
  },
  "language_info": {
   "codemirror_mode": {
    "name": "ipython",
    "version": 3
   },
   "file_extension": ".py",
   "mimetype": "text/x-python",
   "name": "python",
   "nbconvert_exporter": "python",
   "pygments_lexer": "ipython3",
   "version": "3.9.5"
  },
  "toc": {
   "base_numbering": 1,
   "nav_menu": {},
   "number_sections": true,
   "sideBar": true,
   "skip_h1_title": false,
   "title_cell": "Table of Contents",
   "title_sidebar": "Contents",
   "toc_cell": false,
   "toc_position": {},
   "toc_section_display": true,
   "toc_window_display": false
  },
  "varInspector": {
   "cols": {
    "lenName": 16,
    "lenType": 16,
    "lenVar": 40
   },
   "kernels_config": {
    "python": {
     "delete_cmd_postfix": "",
     "delete_cmd_prefix": "del ",
     "library": "var_list.py",
     "varRefreshCmd": "print(var_dic_list())"
    },
    "r": {
     "delete_cmd_postfix": ") ",
     "delete_cmd_prefix": "rm(",
     "library": "var_list.r",
     "varRefreshCmd": "cat(var_dic_list()) "
    }
   },
   "types_to_exclude": [
    "module",
    "function",
    "builtin_function_or_method",
    "instance",
    "_Feature"
   ],
   "window_display": false
  },
  "vscode": {
   "interpreter": {
    "hash": "11938c6bc6919ae2720b4d5011047913343b08a43b18698fd82dedb0d4417594"
   }
  }
 },
 "nbformat": 4,
 "nbformat_minor": 2
}
