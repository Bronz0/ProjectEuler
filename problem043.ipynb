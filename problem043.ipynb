{
 "cells": [
  {
   "cell_type": "code",
   "execution_count": 1,
   "metadata": {},
   "outputs": [],
   "source": [
    "from itertools import permutations\n",
    "from time import time"
   ]
  },
  {
   "cell_type": "code",
   "execution_count": 2,
   "metadata": {},
   "outputs": [],
   "source": [
    "def check(number):\n",
    "    i, j = 1,4\n",
    "    divisors = [2, 3, 5, 7, 11, 13, 17]\n",
    "    for div in divisors:\n",
    "        if(int(number[i:j])%div is not 0): return False        \n",
    "        i, j = i+1, j+1\n",
    "    return True"
   ]
  },
  {
   "cell_type": "code",
   "execution_count": 3,
   "metadata": {},
   "outputs": [],
   "source": [
    "def solve():\n",
    "    pandigitals = [''.join(i) for i in list(permutations('0123456789'))]\n",
    "    s = 0\n",
    "    for pandigital in pandigitals:\n",
    "        if(check(pandigital)):\n",
    "            s += int(pandigital)\n",
    "    return s"
   ]
  },
  {
   "cell_type": "code",
   "execution_count": 4,
   "metadata": {},
   "outputs": [
    {
     "name": "stdout",
     "output_type": "stream",
     "text": [
      "Result: 16695334890\n",
      "Execution time: 4.769 s\n"
     ]
    }
   ],
   "source": [
    "stime = time()\n",
    "print('Result:', solve())\n",
    "print('Execution time:', round(time()-stime, 3), 's')"
   ]
  }
 ],
 "metadata": {
  "kernelspec": {
   "display_name": "Python 3",
   "language": "python",
   "name": "python3"
  },
  "language_info": {
   "codemirror_mode": {
    "name": "ipython",
    "version": 3
   },
   "file_extension": ".py",
   "mimetype": "text/x-python",
   "name": "python",
   "nbconvert_exporter": "python",
   "pygments_lexer": "ipython3",
   "version": "3.7.4"
  }
 },
 "nbformat": 4,
 "nbformat_minor": 2
}
