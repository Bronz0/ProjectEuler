{
 "cells": [
  {
   "cell_type": "code",
   "execution_count": 1,
   "metadata": {},
   "outputs": [],
   "source": [
    "from itertools import product\n",
    "from time import time"
   ]
  },
  {
   "cell_type": "code",
   "execution_count": 2,
   "metadata": {},
   "outputs": [],
   "source": [
    "def isprime(n):\n",
    "    if(n<2): return False\n",
    "    if(n<4): return True # 2, 3\n",
    "    for i in range(2, int(n**0.5) +1):\n",
    "        if n%i == 0 : return False\n",
    "    return True"
   ]
  },
  {
   "cell_type": "code",
   "execution_count": 3,
   "metadata": {},
   "outputs": [],
   "source": [
    "def truncate(n, side):\n",
    "    if side == 'l':\n",
    "        return int(str(n)[1:])\n",
    "    elif side == 'r':\n",
    "        return int(str(n)[:-1])"
   ]
  },
  {
   "cell_type": "code",
   "execution_count": 4,
   "metadata": {},
   "outputs": [],
   "source": [
    "def  is_truncatable_prime(n):\n",
    "    '''checks if n is a trunctable prime from left to right and right to left'''\n",
    "    if not isprime(n): return False\n",
    "    left, right = n, n\n",
    "    while(left//10 > 0):  # while n contains more than one digit\n",
    "        left = truncate(left, 'l')\n",
    "        right = truncate(right, 'r')\n",
    "        if(not isprime(left) or not isprime(right)):\n",
    "            return False\n",
    "    return True"
   ]
  },
  {
   "cell_type": "code",
   "execution_count": 5,
   "metadata": {},
   "outputs": [],
   "source": [
    "def gen_numbers():\n",
    "    result = []\n",
    "    for r in range(2,7):\n",
    "        if r == 2: # to include 23 and 53\n",
    "            result.extend([int(''.join(j for j in i)) for i in product('123579', repeat=r)])\n",
    "        else:\n",
    "            result.extend([int(''.join(j for j in i)) for i in product('1379', repeat=r)])\n",
    "    return result"
   ]
  },
  {
   "cell_type": "code",
   "execution_count": 6,
   "metadata": {},
   "outputs": [],
   "source": [
    "def solve():\n",
    "    return sum([number for number in gen_numbers() if is_truncatable_prime(number)])"
   ]
  },
  {
   "cell_type": "code",
   "execution_count": 7,
   "metadata": {},
   "outputs": [
    {
     "name": "stdout",
     "output_type": "stream",
     "text": [
      "Result: 748317\n",
      "Execution time: 0.19 s\n"
     ]
    }
   ],
   "source": [
    "stime = time()\n",
    "print('Result:',solve())\n",
    "print('Execution time:', round(time()-stime, 3), 's')"
   ]
  }
 ],
 "metadata": {
  "celltoolbar": "Raw Cell Format",
  "kernelspec": {
   "display_name": "Python 3",
   "language": "python",
   "name": "python3"
  },
  "language_info": {
   "codemirror_mode": {
    "name": "ipython",
    "version": 3
   },
   "file_extension": ".py",
   "mimetype": "text/x-python",
   "name": "python",
   "nbconvert_exporter": "python",
   "pygments_lexer": "ipython3",
   "version": "3.7.4"
  }
 },
 "nbformat": 4,
 "nbformat_minor": 2
}
