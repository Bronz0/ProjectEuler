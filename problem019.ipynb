{
 "cells": [
  {
   "cell_type": "markdown",
   "metadata": {},
   "source": [
    "# Method 1\n",
    "my method :) iterate over all the dates and check if the 1st of the month falls with Sunday"
   ]
  },
  {
   "cell_type": "code",
   "execution_count": 1,
   "metadata": {},
   "outputs": [],
   "source": [
    "def leap(year):\n",
    "    if(year%100 == 0):  # if year is a century\n",
    "        if(year%400 == 0):\n",
    "            return True\n",
    "        else:\n",
    "            return False\n",
    "    elif(year%4==0):  # year is not a century but it's divisible by 4\n",
    "        return True\n",
    "    else: \n",
    "        return False"
   ]
  },
  {
   "cell_type": "code",
   "execution_count": 2,
   "metadata": {},
   "outputs": [],
   "source": [
    "def get_month_days(month,year):\n",
    "    switcher = {\n",
    "        1: 31,\n",
    "        2: 28,\n",
    "        3: 31,\n",
    "        4: 30,\n",
    "        5: 31,\n",
    "        6: 30,\n",
    "        7: 31,\n",
    "        8: 31,\n",
    "        9: 30,\n",
    "        10: 31,\n",
    "        11: 30,\n",
    "        12: 31\n",
    "    }\n",
    "    if(leap(year) and month == 2):\n",
    "        return 29\n",
    "    else:\n",
    "        return switcher.get(month, -1)"
   ]
  },
  {
   "cell_type": "code",
   "execution_count": 3,
   "metadata": {},
   "outputs": [],
   "source": [
    "def next_day(day, month, year):\n",
    "    '''\n",
    "    given a date returns the next day's date\n",
    "    '''\n",
    "    if(day < get_month_days(month,year)):\n",
    "        return day+1, month, year\n",
    "    elif(day == get_month_days(month,year)):\n",
    "        if(month < 12):\n",
    "            return 1,month+1,year\n",
    "        else:\n",
    "            return 1, 1, year+1\n",
    "    else:\n",
    "        return -1,-1,-1"
   ]
  },
  {
   "cell_type": "code",
   "execution_count": 4,
   "metadata": {},
   "outputs": [],
   "source": [
    "def compare_dates(day1,month1,year1, day2, month2, year2):\n",
    "    '''\n",
    "    check if date one is < to date two\n",
    "    '''\n",
    "    if(year1 < year2):\n",
    "        return True\n",
    "    elif(year1 > year2):\n",
    "        return False\n",
    "    else:  # years are the same we need to compare months\n",
    "        if(month1 < month2):\n",
    "            return True\n",
    "        elif(month1 > month2):\n",
    "            return False\n",
    "        else:  # years and months are equal move to dates\n",
    "            if(day1<day2):\n",
    "                return True\n",
    "            elif(day1>day2):\n",
    "                return False\n",
    "            else: \n",
    "                return False"
   ]
  },
  {
   "cell_type": "code",
   "execution_count": 5,
   "metadata": {
    "scrolled": true
   },
   "outputs": [],
   "source": [
    "def method1():\n",
    "    flags=['Monday',\n",
    "    'Tuesday',\n",
    "    'Wednesday',\n",
    "    'Thursday',\n",
    "    'Friday',\n",
    "    'Saturday',\n",
    "    'Sunday']\n",
    "    f_index=1\n",
    "    flag = flags[f_index]\n",
    "    day = 1\n",
    "    month = 1\n",
    "    year = 1901\n",
    "    count = 0\n",
    "    while(compare_dates(day, month, year, 1,1,2001)):  # while dates < 1-1-1901\n",
    "        if(day == 1 and flags[f_index] == 'Sunday'):\n",
    "            count+=1\n",
    "        day, month, year = next_day(day, month, year)\n",
    "        f_index += 1\n",
    "        if(f_index == 7):  ## pass from Sunday to Monday\n",
    "            f_index = 0\n",
    "    print('The number of Sundays fell on the first of the month during the twentieth century is:', count)"
   ]
  },
  {
   "cell_type": "code",
   "execution_count": 6,
   "metadata": {
    "scrolled": true
   },
   "outputs": [
    {
     "name": "stdout",
     "output_type": "stream",
     "text": [
      "The number of Sundays fell on the first of the month during the twentieth century is: 171\n",
      "--- execution time: 0.12965703010559082 seconds ---\n"
     ]
    }
   ],
   "source": [
    "import time\n",
    "start_time = time.time()\n",
    "method1()\n",
    "print(\"--- execution time: %s seconds ---\" % (time.time() - start_time))"
   ]
  },
  {
   "cell_type": "markdown",
   "metadata": {},
   "source": [
    "# Method 2\n",
    "i used a [function](https://www.geeksforgeeks.org/find-day-of-the-week-for-a-given-date/) that I found on the internet, to check only the 1st of each month if it is sunday or not"
   ]
  },
  {
   "cell_type": "code",
   "execution_count": 7,
   "metadata": {
    "scrolled": true
   },
   "outputs": [],
   "source": [
    "def dayofweek(d, m, y): \n",
    "    flags=['Monday', 'Tuesday', 'Wednesday', 'Thursday', 'Friday', 'Saturday', 'Sunday']\n",
    "    t = [ 0, 3, 2, 5, 0, 3, 5, 1, 4, 6, 2, 4 ] \n",
    "    y -= m < 3\n",
    "    return flags[(( y + int(y / 4) - int(y / 100) + int(y / 400) + t[m - 1] + d) % 7) - 1 ]\n",
    "\n",
    "def method2():\n",
    "    month = 1\n",
    "    year = 1901\n",
    "    count = 0\n",
    "    while(year<2001):\n",
    "        if(dayofweek(1,month, year) == 'Sunday'):\n",
    "            count+=1\n",
    "        month+=1\n",
    "        if(month == 13):\n",
    "            month=1\n",
    "            year+=1\n",
    "    print('The number of Sundays fell on the first of the month during the twentieth century is:', count)"
   ]
  },
  {
   "cell_type": "code",
   "execution_count": 8,
   "metadata": {},
   "outputs": [
    {
     "name": "stdout",
     "output_type": "stream",
     "text": [
      "The number of Sundays fell on the first of the month during the twentieth century is: 171\n",
      "--- execution time: 0.008971452713012695 seconds ---\n"
     ]
    }
   ],
   "source": [
    "start_time = time.time()\n",
    "method2()\n",
    "print(\"--- execution time: %s seconds ---\" % (time.time() - start_time))"
   ]
  }
 ],
 "metadata": {
  "kernelspec": {
   "display_name": "Python 3",
   "language": "python",
   "name": "python3"
  },
  "language_info": {
   "codemirror_mode": {
    "name": "ipython",
    "version": 3
   },
   "file_extension": ".py",
   "mimetype": "text/x-python",
   "name": "python",
   "nbconvert_exporter": "python",
   "pygments_lexer": "ipython3",
   "version": "3.7.4"
  }
 },
 "nbformat": 4,
 "nbformat_minor": 2
}
