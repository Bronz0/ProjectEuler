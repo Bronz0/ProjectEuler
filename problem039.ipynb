{
 "cells": [
  {
   "cell_type": "code",
   "execution_count": 1,
   "metadata": {},
   "outputs": [],
   "source": [
    " def solve():\n",
    "    max_sols = 0\n",
    "    p_res = 0\n",
    "    for p in range(2,1001):\n",
    "        nb_sols = 0\n",
    "        for a in range(1, int(p*0.29)+1):  # a will never exceeded 0.29p\n",
    "            for b in range(a, int(p*0.48)+1):  # b will never exceeded 0.48p\n",
    "                c = (a**2 + b**2)**0.5\n",
    "                _p = a+b+c\n",
    "                if(_p == p):\n",
    "                    nb_sols += 1\n",
    "                elif(_p > p):\n",
    "                    break\n",
    "        if(nb_sols > max_sols):\n",
    "            max_sols, p_res = nb_sols, p\n",
    "    return p_res, max_sols"
   ]
  },
  {
   "cell_type": "code",
   "execution_count": 2,
   "metadata": {},
   "outputs": [
    {
     "name": "stdout",
     "output_type": "stream",
     "text": [
      "Result: 840 with 8 possible solutions\n",
      "Execution time: 29.22 s\n"
     ]
    }
   ],
   "source": [
    "from time import time\n",
    "stime = time()\n",
    "result = solve()\n",
    "print('Result:', result[0], 'with', result[1], 'possible solutions')\n",
    "print('Execution time:', round(time()-stime, 3), 's')"
   ]
  }
 ],
 "metadata": {
  "kernelspec": {
   "display_name": "Python 3",
   "language": "python",
   "name": "python3"
  },
  "language_info": {
   "codemirror_mode": {
    "name": "ipython",
    "version": 3
   },
   "file_extension": ".py",
   "mimetype": "text/x-python",
   "name": "python",
   "nbconvert_exporter": "python",
   "pygments_lexer": "ipython3",
   "version": "3.7.4"
  }
 },
 "nbformat": 4,
 "nbformat_minor": 2
}
