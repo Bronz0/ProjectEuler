{
 "cells": [
  {
   "cell_type": "code",
   "execution_count": 1,
   "metadata": {},
   "outputs": [],
   "source": [
    "def get_prime_factors(n):\n",
    "    prime_factors = []\n",
    "    while n % 2 == 0:\n",
    "        prime_factors.append(2)\n",
    "        n //= 2\n",
    "    for i in range(3, int(n**0.5)+1, 2):\n",
    "        while n % i == 0:\n",
    "            prime_factors.append(i)\n",
    "            n //= i\n",
    "    if n > 2:\n",
    "        prime_factors.append(n)\n",
    "\n",
    "    return set(prime_factors)"
   ]
  },
  {
   "cell_type": "code",
   "execution_count": 2,
   "metadata": {},
   "outputs": [
    {
     "name": "stdout",
     "output_type": "stream",
     "text": [
      "134043\n"
     ]
    }
   ],
   "source": [
    "solution_found = False\n",
    "n = 1000\n",
    "while not solution_found:\n",
    "    p1 = get_prime_factors(n)\n",
    "    # check that check that each number has 4 distinct prime factors\n",
    "    if len(p1) == 4:\n",
    "        p2 = get_prime_factors(n+1)\n",
    "        if len(p2) == 4:\n",
    "            p3 = get_prime_factors(n+2)\n",
    "            if len(p3) == 4:\n",
    "                p4 = get_prime_factors(n+3)\n",
    "                if len(p4) == 4:\n",
    "                    solution_found = True\n",
    "                    print(n)\n",
    "\n",
    "    n += 1\n"
   ]
  }
 ],
 "metadata": {
  "kernelspec": {
   "display_name": "Python 3",
   "language": "python",
   "name": "python3"
  },
  "language_info": {
   "codemirror_mode": {
    "name": "ipython",
    "version": 3
   },
   "file_extension": ".py",
   "mimetype": "text/x-python",
   "name": "python",
   "nbconvert_exporter": "python",
   "pygments_lexer": "ipython3",
   "version": "3.10.4"
  }
 },
 "nbformat": 4,
 "nbformat_minor": 2
}
