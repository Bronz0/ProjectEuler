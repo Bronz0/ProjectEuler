{
 "cells": [
  {
   "cell_type": "code",
   "execution_count": 1,
   "metadata": {},
   "outputs": [],
   "source": [
    "def isprime(n):\n",
    "    if(n<2): return False\n",
    "    elif(n<4): return True\n",
    "    else:\n",
    "        for i in range(2,int(n**0.5)+1):\n",
    "            if n % i == 0: return False\n",
    "    return True"
   ]
  },
  {
   "cell_type": "code",
   "execution_count": 2,
   "metadata": {},
   "outputs": [],
   "source": [
    "def eq(n, a, b):\n",
    "    return n**2 + a*n + b"
   ]
  },
  {
   "cell_type": "code",
   "execution_count": 3,
   "metadata": {},
   "outputs": [],
   "source": [
    "def solve():\n",
    "    max_primes = 0\n",
    "    _a, _b = None, None\n",
    "    for a in range(-1000,1001):\n",
    "        for b in range(-1000, 1001):\n",
    "            n = 0\n",
    "            _max = 0\n",
    "            res = eq(n,a,b)\n",
    "            while(isprime(res)):\n",
    "                n+=1\n",
    "                _max+=1\n",
    "                res = eq(n, a, b)\n",
    "            if(_max > max_primes):\n",
    "                max_primes = _max\n",
    "                _a, _b = a, b\n",
    "    return _a*_b"
   ]
  },
  {
   "cell_type": "code",
   "execution_count": 4,
   "metadata": {},
   "outputs": [
    {
     "name": "stdout",
     "output_type": "stream",
     "text": [
      "Result: -59231\n",
      "Execution time: 13.375 s\n"
     ]
    }
   ],
   "source": [
    "from time import time\n",
    "stime = time()\n",
    "print('Result:', solve())\n",
    "print('Execution time:', round(time()-stime, 3), 's')"
   ]
  }
 ],
 "metadata": {
  "kernelspec": {
   "display_name": "Python 3",
   "language": "python",
   "name": "python3"
  },
  "language_info": {
   "codemirror_mode": {
    "name": "ipython",
    "version": 3
   },
   "file_extension": ".py",
   "mimetype": "text/x-python",
   "name": "python",
   "nbconvert_exporter": "python",
   "pygments_lexer": "ipython3",
   "version": "3.7.4"
  }
 },
 "nbformat": 4,
 "nbformat_minor": 2
}
