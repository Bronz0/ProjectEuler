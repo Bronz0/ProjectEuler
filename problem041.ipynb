{
 "cells": [
  {
   "cell_type": "code",
   "execution_count": 1,
   "metadata": {},
   "outputs": [],
   "source": [
    "from itertools import permutations\n",
    "from time import time"
   ]
  },
  {
   "cell_type": "code",
   "execution_count": 2,
   "metadata": {},
   "outputs": [],
   "source": [
    "def isprime(n):\n",
    "    if  (n<2): return False\n",
    "    else:\n",
    "        for i in range(2, int(n**0.5)+1):\n",
    "            if n % i == 0 : return False\n",
    "    return True"
   ]
  },
  {
   "cell_type": "markdown",
   "metadata": {},
   "source": [
    "start by generating 9-digit pandigitals and return the max prime number, if there are no prime numbers between 9-digit numbers pass to 8-digits pandigitals and so on"
   ]
  },
  {
   "cell_type": "code",
   "execution_count": 3,
   "metadata": {
    "scrolled": true
   },
   "outputs": [],
   "source": [
    "def solve():\n",
    "    digits = '123456789'\n",
    "    max_pan = -1\n",
    "    while(len(digits) > 0):\n",
    "        pandigitals = [int(''.join(i)) for i in list(permutations(digits))]\n",
    "        for i in pandigitals:\n",
    "            if(isprime(i) and i > max_pan): max_pan = i\n",
    "        if(max_pan > 0): return max_pan\n",
    "        digits = digits[:-1]  # remove the last digit"
   ]
  },
  {
   "cell_type": "code",
   "execution_count": 4,
   "metadata": {
    "scrolled": true
   },
   "outputs": [
    {
     "name": "stdout",
     "output_type": "stream",
     "text": [
      "Result: 7652413\n",
      "Execution time: 0.726 s\n"
     ]
    }
   ],
   "source": [
    "stime = time()\n",
    "print('Result:', solve())\n",
    "print('Execution time:', round(time()-stime, 3), 's')"
   ]
  }
 ],
 "metadata": {
  "kernelspec": {
   "display_name": "Python 3",
   "language": "python",
   "name": "python3"
  },
  "language_info": {
   "codemirror_mode": {
    "name": "ipython",
    "version": 3
   },
   "file_extension": ".py",
   "mimetype": "text/x-python",
   "name": "python",
   "nbconvert_exporter": "python",
   "pygments_lexer": "ipython3",
   "version": "3.7.4"
  }
 },
 "nbformat": 4,
 "nbformat_minor": 2
}
