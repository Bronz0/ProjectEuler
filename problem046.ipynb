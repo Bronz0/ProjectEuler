{
 "cells": [
  {
   "cell_type": "code",
   "execution_count": 1,
   "metadata": {},
   "outputs": [],
   "source": [
    "def is_prime(n):\n",
    "    if n <= 1:\n",
    "        return False\n",
    "    elif n == 2:\n",
    "        return True\n",
    "    elif n % 2 == 0:\n",
    "        return False\n",
    "    else:\n",
    "        for i in range(3, int(n ** 0.5) + 1, 2):\n",
    "            if n % i == 0:\n",
    "                return False\n",
    "        return True"
   ]
  },
  {
   "cell_type": "code",
   "execution_count": 2,
   "metadata": {},
   "outputs": [],
   "source": [
    "def is_composite(n):\n",
    "    if n == 1:\n",
    "        return False\n",
    "    for i in range(2, int(n**0.5)+1):\n",
    "        if n % i == 0:\n",
    "            return True\n",
    "    return False"
   ]
  },
  {
   "cell_type": "code",
   "execution_count": 3,
   "metadata": {},
   "outputs": [
    {
     "name": "stdout",
     "output_type": "stream",
     "text": [
      "Gotcha! The smallest counterexample is 5777 .\n"
     ]
    }
   ],
   "source": [
    "counterexample = False\n",
    "n = 9\n",
    "while not counterexample:\n",
    "    if is_composite(n):\n",
    "        # substract all the [double squares] smaller than n from n\n",
    "        # and check if the result is a prime\n",
    "        # if all the differences are not primes, then n is a counterexample\n",
    "        # (at least one of the differences must be a prime)\n",
    "        at_least_one_prime = False\n",
    "        for i in range(1, int(n**0.5)+1):\n",
    "            if is_prime(n - 2 * i**2):\n",
    "                at_least_one_prime = True\n",
    "                break\n",
    "\n",
    "        if not at_least_one_prime:\n",
    "            counterexample = True\n",
    "            print(\"Gotcha! The smallest counterexample is\", n, \".\")\n",
    "\n",
    "    n += 2\n",
    "\n"
   ]
  },
  {
   "cell_type": "code",
   "execution_count": null,
   "metadata": {},
   "outputs": [],
   "source": []
  }
 ],
 "metadata": {
  "kernelspec": {
   "display_name": "firstEnv",
   "language": "python",
   "name": "firstenv"
  },
  "language_info": {
   "codemirror_mode": {
    "name": "ipython",
    "version": 3
   },
   "file_extension": ".py",
   "mimetype": "text/x-python",
   "name": "python",
   "nbconvert_exporter": "python",
   "pygments_lexer": "ipython3",
   "version": "3.8.1"
  },
  "orig_nbformat": 4
 },
 "nbformat": 4,
 "nbformat_minor": 2
}
