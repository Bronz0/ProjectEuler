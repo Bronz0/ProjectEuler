{
 "cells": [
  {
   "cell_type": "code",
   "execution_count": 1,
   "metadata": {
    "scrolled": true
   },
   "outputs": [
    {
     "name": "stdout",
     "output_type": "stream",
     "text": [
      "Result : 9183\n",
      "Execution time: 0.04 s\n"
     ]
    }
   ],
   "source": [
    "import time\n",
    "stime = time.time()\n",
    "result = []\n",
    "for a in range(2,101):\n",
    "    for b in range(2,101):\n",
    "        result.append(a**b)\n",
    "result = list(dict.fromkeys(result)) # remove duplicates\n",
    "print('Result :', len(result))\n",
    "print(\"Execution time:\", round(time.time()-stime, 3), \"s\")"
   ]
  },
  {
   "cell_type": "markdown",
   "metadata": {},
   "source": [
    "## One line version"
   ]
  },
  {
   "cell_type": "code",
   "execution_count": 2,
   "metadata": {},
   "outputs": [
    {
     "name": "stdout",
     "output_type": "stream",
     "text": [
      "Result : 9183\n"
     ]
    }
   ],
   "source": [
    "print('Result :',len(list(dict.fromkeys([a**b for a in range(2,101) for b in range(2,101)]))))"
   ]
  }
 ],
 "metadata": {
  "kernelspec": {
   "display_name": "Python 3",
   "language": "python",
   "name": "python3"
  },
  "language_info": {
   "codemirror_mode": {
    "name": "ipython",
    "version": 3
   },
   "file_extension": ".py",
   "mimetype": "text/x-python",
   "name": "python",
   "nbconvert_exporter": "python",
   "pygments_lexer": "ipython3",
   "version": "3.7.4"
  }
 },
 "nbformat": 4,
 "nbformat_minor": 2
}
