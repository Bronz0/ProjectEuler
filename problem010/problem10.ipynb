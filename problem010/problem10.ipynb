{
 "cells": [
  {
   "cell_type": "code",
   "execution_count": 1,
   "metadata": {},
   "outputs": [],
   "source": [
    "import numpy as np\n",
    "import timeit\n",
    "from datetime import timedelta"
   ]
  },
  {
   "cell_type": "code",
   "execution_count": 2,
   "metadata": {},
   "outputs": [],
   "source": [
    "def isPrime(n):\n",
    "    if(n<2):\n",
    "        return False\n",
    "    elif(n<4):\n",
    "        return True;\n",
    "    else:\n",
    "        a = np.sqrt(n)\n",
    "        i = 2\n",
    "        while (i<=a):\n",
    "            if(n%i == 0):\n",
    "                return False\n",
    "            i = i+1\n",
    "        return True"
   ]
  },
  {
   "cell_type": "code",
   "execution_count": 3,
   "metadata": {},
   "outputs": [],
   "source": [
    "  def primes_sum():\n",
    "    s = 17;\n",
    "    i = 11\n",
    "    while i < 2000000:\n",
    "        if(i%5 == 0):\n",
    "            pass\n",
    "        else:\n",
    "            if(isPrime(i)):\n",
    "                 s += i\n",
    "        i+=2\n",
    "    print('Summation of primes is: ',s)"
   ]
  },
  {
   "cell_type": "code",
   "execution_count": 4,
   "metadata": {
    "scrolled": false
   },
   "outputs": [
    {
     "name": "stdout",
     "output_type": "stream",
     "text": [
      "Summation of primes is:  142913828922\n",
      "elapsed time:  0:02:04.582198\n"
     ]
    }
   ],
   "source": [
    "start_time = timeit.default_timer()\n",
    "primes_sum()\n",
    "elapsed = timeit.default_timer() - start_time\n",
    "print(\"elapsed time: \", str(timedelta(seconds=elapsed)))"
   ]
  }
 ],
 "metadata": {
  "kernelspec": {
   "display_name": "Python 3",
   "language": "python",
   "name": "python3"
  },
  "language_info": {
   "codemirror_mode": {
    "name": "ipython",
    "version": 3
   },
   "file_extension": ".py",
   "mimetype": "text/x-python",
   "name": "python",
   "nbconvert_exporter": "python",
   "pygments_lexer": "ipython3",
   "version": "3.7.4"
  }
 },
 "nbformat": 4,
 "nbformat_minor": 2
}
