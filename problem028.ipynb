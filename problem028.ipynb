{
 "cells": [
  {
   "cell_type": "markdown",
   "id": "a9ee81d2",
   "metadata": {},
   "source": [
    "![Problem 28](img/problem028.png)"
   ]
  },
  {
   "cell_type": "code",
   "execution_count": 1,
   "id": "e093c91f",
   "metadata": {},
   "outputs": [],
   "source": [
    "# the solution is the sum of 4 sequences\n",
    "# 1. U0 = 1, Un = Un-1 + 8*n\n",
    "# 2. U0 = 1, Un = Un-1 + 8*(n-1) + 2\n",
    "# 3. U0 = 1, Un = Un-1 + 8*(n-1) + 4\n",
    "# 4. U0 = 1, Un = Un-1 + 8*(n-1) + 6\n",
    "\n",
    "# we put it all together\n",
    "# U0 = 4, Un = Un-1 + 8*4*(n-1) + 20"
   ]
  },
  {
   "cell_type": "code",
   "execution_count": 2,
   "id": "66afc3c6",
   "metadata": {},
   "outputs": [],
   "source": [
    "def f1(limit=500):\n",
    "    u0 = 1\n",
    "    s = u0\n",
    "    un = u0\n",
    "    for i in range(1,limit+1):\n",
    "        un = un+8*i\n",
    "        s = s+un\n",
    "    return s"
   ]
  },
  {
   "cell_type": "code",
   "execution_count": 3,
   "id": "a36ce6e8",
   "metadata": {},
   "outputs": [],
   "source": [
    "def f2(limit=500):\n",
    "    u0 = 1\n",
    "    s = u0\n",
    "    ut = u0\n",
    "    for i in range(1, limit+1):\n",
    "        un = 2 + 8*(i-1) + ut\n",
    "        ut = un\n",
    "        s = s+un\n",
    "    return s"
   ]
  },
  {
   "cell_type": "code",
   "execution_count": 4,
   "id": "ceacc29e",
   "metadata": {},
   "outputs": [],
   "source": [
    "def f3(limit=500):\n",
    "    u0 = 1\n",
    "    s = u0\n",
    "    ut = u0\n",
    "    for i in range(1, limit+1):\n",
    "        un = 4 + 8*(i-1) + ut\n",
    "        ut = un\n",
    "        s = s+un\n",
    "    return s"
   ]
  },
  {
   "cell_type": "code",
   "execution_count": 5,
   "id": "ce5edf29",
   "metadata": {},
   "outputs": [],
   "source": [
    "def f4(limit=500):\n",
    "    u0 = 1\n",
    "    s = u0\n",
    "    ut = u0\n",
    "    for i in range(1, limit+1):\n",
    "        un = 6 + 8*(i-1) + ut\n",
    "        ut = un\n",
    "        s = s+un\n",
    "    return s"
   ]
  },
  {
   "cell_type": "code",
   "execution_count": 6,
   "id": "90c66a1d",
   "metadata": {},
   "outputs": [
    {
     "data": {
      "text/plain": [
       "669171001"
      ]
     },
     "execution_count": 6,
     "metadata": {},
     "output_type": "execute_result"
    }
   ],
   "source": [
    "f1()+f2()+f3()+f4()-3"
   ]
  },
  {
   "cell_type": "code",
   "execution_count": 7,
   "id": "1ec33129",
   "metadata": {},
   "outputs": [
    {
     "name": "stdout",
     "output_type": "stream",
     "text": [
      "174 µs ± 23 µs per loop (mean ± std. dev. of 7 runs, 10000 loops each)\n"
     ]
    }
   ],
   "source": [
    "%%timeit\n",
    "f1()+f2()+f3()+f4()-3"
   ]
  },
  {
   "cell_type": "code",
   "execution_count": 8,
   "id": "bd8fbee8",
   "metadata": {},
   "outputs": [],
   "source": [
    "def f5(limit=500):\n",
    "    u0 = 4\n",
    "    s = u0\n",
    "    ut = u0\n",
    "    for i in range(1, limit+1):\n",
    "        un = 20 + 8*4*(i-1) + ut\n",
    "        ut = un\n",
    "        s = s+un\n",
    "    return s"
   ]
  },
  {
   "cell_type": "code",
   "execution_count": 9,
   "id": "69b5eb5a",
   "metadata": {},
   "outputs": [
    {
     "data": {
      "text/plain": [
       "669171001"
      ]
     },
     "execution_count": 9,
     "metadata": {},
     "output_type": "execute_result"
    }
   ],
   "source": [
    "f5()-3"
   ]
  },
  {
   "cell_type": "code",
   "execution_count": 10,
   "id": "e85776fd",
   "metadata": {},
   "outputs": [
    {
     "name": "stdout",
     "output_type": "stream",
     "text": [
      "42.6 µs ± 310 ns per loop (mean ± std. dev. of 7 runs, 10000 loops each)\n"
     ]
    }
   ],
   "source": [
    "%%timeit\n",
    "f5()-3"
   ]
  }
 ],
 "metadata": {
  "kernelspec": {
   "display_name": "Python 3",
   "language": "python",
   "name": "python3"
  },
  "language_info": {
   "codemirror_mode": {
    "name": "ipython",
    "version": 3
   },
   "file_extension": ".py",
   "mimetype": "text/x-python",
   "name": "python",
   "nbconvert_exporter": "python",
   "pygments_lexer": "ipython3",
   "version": "3.9.5"
  },
  "toc": {
   "base_numbering": 1,
   "nav_menu": {},
   "number_sections": true,
   "sideBar": true,
   "skip_h1_title": false,
   "title_cell": "Table of Contents",
   "title_sidebar": "Contents",
   "toc_cell": false,
   "toc_position": {},
   "toc_section_display": true,
   "toc_window_display": false
  },
  "varInspector": {
   "cols": {
    "lenName": 16,
    "lenType": 16,
    "lenVar": 40
   },
   "kernels_config": {
    "python": {
     "delete_cmd_postfix": "",
     "delete_cmd_prefix": "del ",
     "library": "var_list.py",
     "varRefreshCmd": "print(var_dic_list())"
    },
    "r": {
     "delete_cmd_postfix": ") ",
     "delete_cmd_prefix": "rm(",
     "library": "var_list.r",
     "varRefreshCmd": "cat(var_dic_list()) "
    }
   },
   "types_to_exclude": [
    "module",
    "function",
    "builtin_function_or_method",
    "instance",
    "_Feature"
   ],
   "window_display": false
  }
 },
 "nbformat": 4,
 "nbformat_minor": 5
}
