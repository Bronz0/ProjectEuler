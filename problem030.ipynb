{
 "cells": [
  {
   "cell_type": "code",
   "execution_count": 37,
   "metadata": {},
   "outputs": [],
   "source": [
    "def condition(num):\n",
    "    digits = [int(i) for i in str(num)]\n",
    "    return sum(digit**5 for digit in digits) == num"
   ]
  },
  {
   "cell_type": "code",
   "execution_count": 40,
   "metadata": {
    "scrolled": true
   },
   "outputs": [
    {
     "name": "stdout",
     "output_type": "stream",
     "text": [
      "Result:  443839\n",
      "Execution time 11.143 s\n"
     ]
    }
   ],
   "source": [
    "import time\n",
    "stime = time.time()\n",
    "s = 0\n",
    "for i in range(2,1000000):\n",
    "    if(condition(i)): s+=i\n",
    "print('Result: ',s)\n",
    "print('Execution time', round(time.time()-stime, 3), 's')"
   ]
  },
  {
   "cell_type": "code",
   "execution_count": 41,
   "metadata": {},
   "outputs": [
    {
     "name": "stdout",
     "output_type": "stream",
     "text": [
      "Result:  443839\n",
      "Execution time 10.765 s\n"
     ]
    }
   ],
   "source": [
    "stime = time.time()\n",
    "print('Result: ',)\n",
    "print('Execution time', round(time.time()-stime, 3), 's')"
   ]
  }
 ],
 "metadata": {
  "kernelspec": {
   "display_name": "Python 3",
   "language": "python",
   "name": "python3"
  },
  "language_info": {
   "codemirror_mode": {
    "name": "ipython",
    "version": 3
   },
   "file_extension": ".py",
   "mimetype": "text/x-python",
   "name": "python",
   "nbconvert_exporter": "python",
   "pygments_lexer": "ipython3",
   "version": "3.7.4"
  }
 },
 "nbformat": 4,
 "nbformat_minor": 2
}
