{
 "cells": [
  {
   "cell_type": "code",
   "execution_count": 1,
   "metadata": {},
   "outputs": [],
   "source": [
    "def condition(num):\n",
    "    digits = [int(i) for i in str(num)]\n",
    "    return sum(digit**5 for digit in digits) == num"
   ]
  },
  {
   "cell_type": "code",
   "execution_count": 2,
   "metadata": {},
   "outputs": [
    {
     "name": "stdout",
     "output_type": "stream",
     "text": [
      "Result:  443839\n",
      "Execution time 10.85 s\n"
     ]
    }
   ],
   "source": [
    "import time\n",
    "stime = time.time()\n",
    "result = sum([i for i in range(2,1000000) if condition(i)])\n",
    "print('Result: ', result)\n",
    "print('Execution time', round(time.time()-stime, 3), 's')"
   ]
  }
 ],
 "metadata": {
  "kernelspec": {
   "display_name": "Python 3",
   "language": "python",
   "name": "python3"
  },
  "language_info": {
   "codemirror_mode": {
    "name": "ipython",
    "version": 3
   },
   "file_extension": ".py",
   "mimetype": "text/x-python",
   "name": "python",
   "nbconvert_exporter": "python",
   "pygments_lexer": "ipython3",
   "version": "3.7.4"
  }
 },
 "nbformat": 4,
 "nbformat_minor": 2
}
