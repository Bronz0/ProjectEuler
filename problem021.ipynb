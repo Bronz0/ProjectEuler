{
 "cells": [
  {
   "cell_type": "code",
   "execution_count": 1,
   "metadata": {},
   "outputs": [],
   "source": [
    "def sum_divs(n):\n",
    "    '''input n: number, return the sum of proper divisors of n '''\n",
    "    return sum([i for i in range(1,int(n/2)+1) if n%i==0])"
   ]
  },
  {
   "cell_type": "code",
   "execution_count": 2,
   "metadata": {},
   "outputs": [],
   "source": [
    "def my_func():\n",
    "    arr = []\n",
    "    # find the sum of divisors for all the numbers let's call it b wich is d(a)\n",
    "    for i in range(10000):\n",
    "        arr.append([i,sum_divs(i)])\n",
    "    # find the sum of divisors for each d(a) calculated in previous step let's call it d(b) wich is d(d(a))\n",
    "    for ar in arr:\n",
    "        ar.append(sum_divs(ar[1]))\n",
    "    s=0\n",
    "    for ar in arr:\n",
    "        # if a != d(a) and a = d(d(a)) add a \n",
    "        if(ar[0] != ar[1] and ar[0] == ar[2]):\n",
    "            s+= ar[0]\n",
    "    print('The sum of all the amicable numbers under 10000 is',s)"
   ]
  },
  {
   "cell_type": "code",
   "execution_count": 3,
   "metadata": {},
   "outputs": [
    {
     "name": "stdout",
     "output_type": "stream",
     "text": [
      "The sum of all the amicable numbers under 10000 is 31626\n",
      "Execution time = 7.27 s\n"
     ]
    }
   ],
   "source": [
    "import time \n",
    "start_time = time.time()\n",
    "my_func()\n",
    "print(\"Execution time =\", round(time.time() - start_time,3), 's')"
   ]
  },
  {
   "cell_type": "markdown",
   "metadata": {},
   "source": [
    "### One line version x)"
   ]
  },
  {
   "cell_type": "code",
   "execution_count": 4,
   "metadata": {
    "scrolled": true
   },
   "outputs": [
    {
     "data": {
      "text/plain": [
       "31626"
      ]
     },
     "execution_count": 4,
     "metadata": {},
     "output_type": "execute_result"
    }
   ],
   "source": [
    "sum([i[0] for i in [[i[0],i[1],sum_divs(i[1])] for i in [[i,sum_divs(i)] for i in range(10000)] ] if i[0]!=i[1] and i[0]==i[2]])"
   ]
  }
 ],
 "metadata": {
  "kernelspec": {
   "display_name": "Python 3",
   "language": "python",
   "name": "python3"
  },
  "language_info": {
   "codemirror_mode": {
    "name": "ipython",
    "version": 3
   },
   "file_extension": ".py",
   "mimetype": "text/x-python",
   "name": "python",
   "nbconvert_exporter": "python",
   "pygments_lexer": "ipython3",
   "version": "3.7.4"
  }
 },
 "nbformat": 4,
 "nbformat_minor": 2
}
