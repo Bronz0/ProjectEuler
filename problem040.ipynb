{
 "cells": [
  {
   "cell_type": "code",
   "execution_count": 1,
   "metadata": {},
   "outputs": [],
   "source": [
    "def d(n):\n",
    "    frac = ''\n",
    "    for i in range(1000000):\n",
    "        frac+=str(i)\n",
    "        if(len(frac) > n):\n",
    "            break\n",
    "    return int(frac[n])"
   ]
  },
  {
   "cell_type": "code",
   "execution_count": 2,
   "metadata": {},
   "outputs": [],
   "source": [
    "def solve():\n",
    "    prod  = 1\n",
    "    for n in range(7):\n",
    "        prod *= d(10**n)\n",
    "    return prod"
   ]
  },
  {
   "cell_type": "code",
   "execution_count": 3,
   "metadata": {},
   "outputs": [
    {
     "name": "stdout",
     "output_type": "stream",
     "text": [
      "Result: 210\n",
      "Execution time: 0.204 s\n"
     ]
    }
   ],
   "source": [
    "from time import time\n",
    "stime = time()\n",
    "print('Result:', solve())\n",
    "print('Execution time:', round(time()-stime, 3), 's')"
   ]
  }
 ],
 "metadata": {
  "kernelspec": {
   "display_name": "Python 3",
   "language": "python",
   "name": "python3"
  },
  "language_info": {
   "codemirror_mode": {
    "name": "ipython",
    "version": 3
   },
   "file_extension": ".py",
   "mimetype": "text/x-python",
   "name": "python",
   "nbconvert_exporter": "python",
   "pygments_lexer": "ipython3",
   "version": "3.7.4"
  }
 },
 "nbformat": 4,
 "nbformat_minor": 2
}
