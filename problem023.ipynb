{
 "cells": [
  {
   "cell_type": "markdown",
   "metadata": {},
   "source": [
    "# Method 1"
   ]
  },
  {
   "cell_type": "code",
   "execution_count": 1,
   "metadata": {},
   "outputs": [],
   "source": [
    "def sum_divs(n):\n",
    "    divs = [1]\n",
    "    for i in range(2,int(n**0.5)+1):\n",
    "        if (n % i == 0) :\n",
    "            divs.append(i)\n",
    "            if (n / i != i) : \n",
    "                divs.append(n//i)                 \n",
    "    return sum(divs)"
   ]
  },
  {
   "cell_type": "code",
   "execution_count": 2,
   "metadata": {},
   "outputs": [],
   "source": [
    "def abudant(n):\n",
    "    return n < sum_divs(n)"
   ]
  },
  {
   "cell_type": "code",
   "execution_count": 3,
   "metadata": {},
   "outputs": [],
   "source": [
    "def is_abudant_summable(n):\n",
    "    '''return True if n can be writen as the sum of two abudant numbers else return False'''\n",
    "    for i in range(2, (n//2)+1):\n",
    "        if(abudant(i) and abudant(n-i)):\n",
    "            return True\n",
    "    return False"
   ]
  },
  {
   "cell_type": "code",
   "execution_count": 4,
   "metadata": {},
   "outputs": [],
   "source": [
    "def my_func():\n",
    "    s = 0\n",
    "    for i in range(28123):\n",
    "        if(not is_abudant_summable(i)):\n",
    "            s+=i\n",
    "    print('Result:',s)"
   ]
  },
  {
   "cell_type": "code",
   "execution_count": 5,
   "metadata": {
    "scrolled": true
   },
   "outputs": [
    {
     "name": "stdout",
     "output_type": "stream",
     "text": [
      "Result: 4179871\n",
      "Execution time 232.605\n"
     ]
    }
   ],
   "source": [
    "import time\n",
    "start_time = time.time()\n",
    "my_func()\n",
    "print('Execution time', round(time.time()-start_time, 3))"
   ]
  },
  {
   "cell_type": "markdown",
   "metadata": {},
   "source": [
    "# Method 2\n",
    "- get all the abudant numbers under 28123\n",
    "- calculate the sum of each pair and keep only the sums under 28123\n",
    "- sum all the numbers under 28123 except those from the previous step "
   ]
  },
  {
   "cell_type": "code",
   "execution_count": 6,
   "metadata": {
    "scrolled": false
   },
   "outputs": [
    {
     "name": "stdout",
     "output_type": "stream",
     "text": [
      "Result:  4179871\n",
      "Execution time:  32.926\n"
     ]
    }
   ],
   "source": [
    "start_time = time.time()\n",
    "all_abudants = [i for i in range(1,28123) if abudant(i)] # get all abudant numbers under 28123\n",
    "# get all the sums <=28123 of the abudants number\n",
    "sums = []\n",
    "for i in all_abudants:\n",
    "    for j in all_abudants:\n",
    "        if(i+j <= 28123):\n",
    "            sums.append(i+j)\n",
    "        else: break\n",
    "sums = list(dict.fromkeys(sums)) # remove duplicates\n",
    "print('Result: ', sum([i for i in range(28123) if i not in sums]))\n",
    "print('Execution time: ', round(time.time()-start_time, 3))"
   ]
  }
 ],
 "metadata": {
  "kernelspec": {
   "display_name": "Python 3",
   "language": "python",
   "name": "python3"
  },
  "language_info": {
   "codemirror_mode": {
    "name": "ipython",
    "version": 3
   },
   "file_extension": ".py",
   "mimetype": "text/x-python",
   "name": "python",
   "nbconvert_exporter": "python",
   "pygments_lexer": "ipython3",
   "version": "3.7.4"
  }
 },
 "nbformat": 4,
 "nbformat_minor": 2
}
