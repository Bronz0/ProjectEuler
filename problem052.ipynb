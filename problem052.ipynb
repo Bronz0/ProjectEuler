{
 "cells": [
  {
   "cell_type": "code",
   "execution_count": 1,
   "metadata": {},
   "outputs": [],
   "source": [
    "def problem52():   \n",
    "    n = 125874\n",
    "    solution_found = False\n",
    "    while not solution_found:\n",
    "        n += 1\n",
    "        n2 = n * 2\n",
    "        n3 = n * 3\n",
    "        n4 = n * 4\n",
    "        n5 = n * 5\n",
    "        n6 = n * 6\n",
    "        if sorted(str(n)) == sorted(str(n2)) == sorted(str(n3)) == sorted(str(n4)) == sorted(str(n5)) == sorted(str(n6)):\n",
    "            solution_found = True\n",
    "            # print(n, n2, n3, n4, n5, n6)\n",
    "            break\n",
    "    return n"
   ]
  },
  {
   "cell_type": "code",
   "execution_count": 2,
   "metadata": {},
   "outputs": [
    {
     "data": {
      "text/plain": [
       "142857"
      ]
     },
     "execution_count": 2,
     "metadata": {},
     "output_type": "execute_result"
    }
   ],
   "source": [
    "problem52()"
   ]
  },
  {
   "cell_type": "code",
   "execution_count": 3,
   "metadata": {},
   "outputs": [
    {
     "name": "stdout",
     "output_type": "stream",
     "text": [
      "54.8 ms ± 8.08 ms per loop (mean ± std. dev. of 7 runs, 10 loops each)\n"
     ]
    }
   ],
   "source": [
    "%%timeit\n",
    "problem52()"
   ]
  },
  {
   "cell_type": "code",
   "execution_count": 4,
   "metadata": {},
   "outputs": [],
   "source": [
    "def problem52_():   \n",
    "    n = 125874\n",
    "    solution_found = False\n",
    "    while not solution_found:\n",
    "        n += 1\n",
    "        n2 = n * 2\n",
    "        if sorted(str(n)) == sorted(str(n2)):\n",
    "            n3 = n * 3\n",
    "            if sorted(str(n)) == sorted(str(n3)):\n",
    "                n4 = n * 4\n",
    "                if sorted(str(n)) == sorted(str(n4)):\n",
    "                    n5 = n * 5\n",
    "                    if sorted(str(n)) == sorted(str(n5)):\n",
    "                        n6 = n * 6\n",
    "                        if sorted(str(n)) == sorted(str(n6)):\n",
    "                            solution_found = True\n",
    "                            # print(n, n2, n3, n4, n5, n6)\n",
    "                            break\n",
    "    return n"
   ]
  },
  {
   "cell_type": "code",
   "execution_count": 5,
   "metadata": {},
   "outputs": [
    {
     "data": {
      "text/plain": [
       "142857"
      ]
     },
     "execution_count": 5,
     "metadata": {},
     "output_type": "execute_result"
    }
   ],
   "source": [
    "problem52_()"
   ]
  },
  {
   "cell_type": "code",
   "execution_count": 6,
   "metadata": {},
   "outputs": [
    {
     "name": "stdout",
     "output_type": "stream",
     "text": [
      "51.2 ms ± 10.3 ms per loop (mean ± std. dev. of 7 runs, 10 loops each)\n"
     ]
    }
   ],
   "source": [
    "%%timeit\n",
    "problem52_()"
   ]
  }
 ],
 "metadata": {
  "kernelspec": {
   "display_name": "Python 3",
   "language": "python",
   "name": "python3"
  },
  "language_info": {
   "codemirror_mode": {
    "name": "ipython",
    "version": 3
   },
   "file_extension": ".py",
   "mimetype": "text/x-python",
   "name": "python",
   "nbconvert_exporter": "python",
   "pygments_lexer": "ipython3",
   "version": "3.10.4"
  }
 },
 "nbformat": 4,
 "nbformat_minor": 2
}
