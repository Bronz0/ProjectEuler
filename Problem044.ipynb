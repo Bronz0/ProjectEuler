{
 "cells": [
  {
   "cell_type": "code",
   "execution_count": 1,
   "id": "94c45a56",
   "metadata": {},
   "outputs": [],
   "source": [
    "from math import sqrt "
   ]
  },
  {
   "cell_type": "code",
   "execution_count": 2,
   "id": "3de02718",
   "metadata": {},
   "outputs": [],
   "source": [
    "def p(n):\n",
    "    return n*(3*n-1)/2"
   ]
  },
  {
   "cell_type": "code",
   "execution_count": 3,
   "id": "0268e4d8",
   "metadata": {},
   "outputs": [],
   "source": [
    "def is_pentagonal(n):\n",
    "    k = (sqrt(24*n+1)+1)/6\n",
    "    return k.is_integer()"
   ]
  },
  {
   "cell_type": "code",
   "execution_count": 4,
   "id": "53c813a7",
   "metadata": {},
   "outputs": [],
   "source": [
    "def find_d():    \n",
    "    solution_found = False\n",
    "    pentagonals = [1]\n",
    "    n = 2\n",
    "    d = 0\n",
    "    while not solution_found:\n",
    "        # calculate the next pentagonal number\n",
    "        p2 = p(n)\n",
    "        # check the number with the others\n",
    "        for p1 in pentagonals:\n",
    "            if is_pentagonal(p1+p2) & is_pentagonal(p2-p1):\n",
    "                solution_found = True\n",
    "                d = p2 - p1\n",
    "                return d\n",
    "        pentagonals.append(p2)\n",
    "        n += 1"
   ]
  },
  {
   "cell_type": "code",
   "execution_count": 5,
   "id": "4c83113a",
   "metadata": {},
   "outputs": [
    {
     "data": {
      "text/plain": [
       "5482660.0"
      ]
     },
     "execution_count": 5,
     "metadata": {},
     "output_type": "execute_result"
    }
   ],
   "source": [
    "find_d()"
   ]
  },
  {
   "cell_type": "code",
   "execution_count": 6,
   "id": "c4d47021",
   "metadata": {},
   "outputs": [
    {
     "name": "stdout",
     "output_type": "stream",
     "text": [
      "1.35 s ± 9.47 ms per loop (mean ± std. dev. of 7 runs, 1 loop each)\n"
     ]
    }
   ],
   "source": [
    "%%timeit\n",
    "find_d()"
   ]
  }
 ],
 "metadata": {
  "kernelspec": {
   "display_name": "Python 3",
   "language": "python",
   "name": "python3"
  },
  "language_info": {
   "codemirror_mode": {
    "name": "ipython",
    "version": 3
   },
   "file_extension": ".py",
   "mimetype": "text/x-python",
   "name": "python",
   "nbconvert_exporter": "python",
   "pygments_lexer": "ipython3",
   "version": "3.9.5"
  },
  "toc": {
   "base_numbering": 1,
   "nav_menu": {},
   "number_sections": true,
   "sideBar": true,
   "skip_h1_title": false,
   "title_cell": "Table of Contents",
   "title_sidebar": "Contents",
   "toc_cell": false,
   "toc_position": {},
   "toc_section_display": true,
   "toc_window_display": false
  },
  "varInspector": {
   "cols": {
    "lenName": 16,
    "lenType": 16,
    "lenVar": 40
   },
   "kernels_config": {
    "python": {
     "delete_cmd_postfix": "",
     "delete_cmd_prefix": "del ",
     "library": "var_list.py",
     "varRefreshCmd": "print(var_dic_list())"
    },
    "r": {
     "delete_cmd_postfix": ") ",
     "delete_cmd_prefix": "rm(",
     "library": "var_list.r",
     "varRefreshCmd": "cat(var_dic_list()) "
    }
   },
   "types_to_exclude": [
    "module",
    "function",
    "builtin_function_or_method",
    "instance",
    "_Feature"
   ],
   "window_display": false
  }
 },
 "nbformat": 4,
 "nbformat_minor": 5
}
