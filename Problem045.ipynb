{
 "cells": [
  {
   "cell_type": "code",
   "execution_count": 1,
   "id": "0d565e3d",
   "metadata": {},
   "outputs": [],
   "source": [
    "from math import sqrt"
   ]
  },
  {
   "cell_type": "code",
   "execution_count": 2,
   "id": "41bf9e43",
   "metadata": {},
   "outputs": [],
   "source": [
    "def triangle(n):\n",
    "    return n*(n+1)/2"
   ]
  },
  {
   "cell_type": "code",
   "execution_count": 3,
   "id": "58466eba",
   "metadata": {},
   "outputs": [],
   "source": [
    "def is_pentagonal(n):\n",
    "    k = (sqrt(24*n+1)+1)/6\n",
    "    return k.is_integer()"
   ]
  },
  {
   "cell_type": "code",
   "execution_count": 4,
   "id": "b1a98f36",
   "metadata": {},
   "outputs": [],
   "source": [
    "def is_hexagonal(n):\n",
    "    k = (sqrt(8*n+1)+1)/4\n",
    "    return k.is_integer()"
   ]
  },
  {
   "cell_type": "code",
   "execution_count": 5,
   "id": "bbada9ca",
   "metadata": {},
   "outputs": [],
   "source": [
    "def find_next_triangle():    \n",
    "    n = 286\n",
    "    while True:\n",
    "        t = triangle(n)\n",
    "        if is_pentagonal(t) & is_hexagonal(t):\n",
    "            return (n, t)\n",
    "        n += 1"
   ]
  },
  {
   "cell_type": "code",
   "execution_count": 6,
   "id": "c1ad6a55",
   "metadata": {},
   "outputs": [
    {
     "data": {
      "text/plain": [
       "(55385, 1533776805.0)"
      ]
     },
     "execution_count": 6,
     "metadata": {},
     "output_type": "execute_result"
    }
   ],
   "source": [
    "find_next_triangle()"
   ]
  },
  {
   "cell_type": "code",
   "execution_count": 7,
   "id": "f5b39993",
   "metadata": {},
   "outputs": [
    {
     "name": "stdout",
     "output_type": "stream",
     "text": [
      "37.6 ms ± 491 µs per loop (mean ± std. dev. of 7 runs, 10 loops each)\n"
     ]
    }
   ],
   "source": [
    "%%timeit\n",
    "find_next_triangle()"
   ]
  }
 ],
 "metadata": {
  "kernelspec": {
   "display_name": "Python 3",
   "language": "python",
   "name": "python3"
  },
  "language_info": {
   "codemirror_mode": {
    "name": "ipython",
    "version": 3
   },
   "file_extension": ".py",
   "mimetype": "text/x-python",
   "name": "python",
   "nbconvert_exporter": "python",
   "pygments_lexer": "ipython3",
   "version": "3.9.5"
  },
  "toc": {
   "base_numbering": 1,
   "nav_menu": {},
   "number_sections": true,
   "sideBar": true,
   "skip_h1_title": false,
   "title_cell": "Table of Contents",
   "title_sidebar": "Contents",
   "toc_cell": false,
   "toc_position": {},
   "toc_section_display": true,
   "toc_window_display": false
  },
  "varInspector": {
   "cols": {
    "lenName": 16,
    "lenType": 16,
    "lenVar": 40
   },
   "kernels_config": {
    "python": {
     "delete_cmd_postfix": "",
     "delete_cmd_prefix": "del ",
     "library": "var_list.py",
     "varRefreshCmd": "print(var_dic_list())"
    },
    "r": {
     "delete_cmd_postfix": ") ",
     "delete_cmd_prefix": "rm(",
     "library": "var_list.r",
     "varRefreshCmd": "cat(var_dic_list()) "
    }
   },
   "types_to_exclude": [
    "module",
    "function",
    "builtin_function_or_method",
    "instance",
    "_Feature"
   ],
   "window_display": false
  }
 },
 "nbformat": 4,
 "nbformat_minor": 5
}
