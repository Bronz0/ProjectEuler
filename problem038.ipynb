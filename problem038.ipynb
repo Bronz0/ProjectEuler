{
 "cells": [
  {
   "cell_type": "code",
   "execution_count": 1,
   "metadata": {},
   "outputs": [],
   "source": [
    "def pandigital(n):\n",
    "    return len(str(n)) == 9 and all([i in '123456789' for i in str(n)])"
   ]
  },
  {
   "cell_type": "code",
   "execution_count": 2,
   "metadata": {},
   "outputs": [],
   "source": [
    "def solve():\n",
    "    pandigitals = []\n",
    "    for i in range(2,10000):\n",
    "        concatinated_prods = ''\n",
    "        n = 1\n",
    "        while 1:\n",
    "            prod = i*n\n",
    "            if(all([str(prod).count(digit)==1 for digit in str(prod)]) and all([digit not in concatinated_prods for digit in str(prod)])):\n",
    "                concatinated_prods+=str(prod)\n",
    "            else:\n",
    "                break\n",
    "            if(pandigital(concatinated_prods)):\n",
    "                pandigitals.append((int(concatinated_prods)))\n",
    "            elif(len(concatinated_prods) > 9):\n",
    "                break\n",
    "            n+=1\n",
    "    return max(pandigitals)"
   ]
  },
  {
   "cell_type": "code",
   "execution_count": 3,
   "metadata": {},
   "outputs": [
    {
     "name": "stdout",
     "output_type": "stream",
     "text": [
      "Result: 932718654\n",
      "Execution time: 0.122 s\n"
     ]
    }
   ],
   "source": [
    "from time import time\n",
    "stime = time()\n",
    "print('Result:', solve())\n",
    "print('Execution time:', round(time()-stime, 3),  's')"
   ]
  }
 ],
 "metadata": {
  "kernelspec": {
   "display_name": "Python 3",
   "language": "python",
   "name": "python3"
  },
  "language_info": {
   "codemirror_mode": {
    "name": "ipython",
    "version": 3
   },
   "file_extension": ".py",
   "mimetype": "text/x-python",
   "name": "python",
   "nbconvert_exporter": "python",
   "pygments_lexer": "ipython3",
   "version": "3.7.4"
  }
 },
 "nbformat": 4,
 "nbformat_minor": 2
}
