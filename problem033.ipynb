{
 "cells": [
  {
   "cell_type": "code",
   "execution_count": 1,
   "metadata": {},
   "outputs": [],
   "source": [
    "def iscurious(n,d):\n",
    "    ''' returns True if the fraction (n/d) is curious False otherwise'''\n",
    "    frac = n/d\n",
    "    n1, n2 = [int(i) for i in str(n)]\n",
    "    d1, d2 = [int(i) for i in str(d)]\n",
    "    if(n2==d2 or n2 == 0 or d2==0): return False\n",
    "    elif(n2 == d1 and frac == n1 / d2): return True\n",
    "    else: return False"
   ]
  },
  {
   "cell_type": "code",
   "execution_count": 2,
   "metadata": {},
   "outputs": [],
   "source": [
    "from fractions import Fraction\n",
    "def solution():\n",
    "    # get all the curious fractions\n",
    "    cfractions = [[n,d] for n in range(11,100) for d in range(n,100) if iscurious(n,d)]\n",
    "    n_prod, d_prod = 1, 1\n",
    "    # get the product of the curious fractions\n",
    "    for f in cfractions:\n",
    "        n_prod *= f[0]\n",
    "        d_prod *= f[1]\n",
    "    # get the denominator\n",
    "    result = Fraction(n_prod, d_prod).denominator\n",
    "    print('Result:', result)"
   ]
  },
  {
   "cell_type": "code",
   "execution_count": 3,
   "metadata": {},
   "outputs": [
    {
     "name": "stdout",
     "output_type": "stream",
     "text": [
      "Result: 100\n",
      "Execution time: 0.017 s\n"
     ]
    }
   ],
   "source": [
    "import time\n",
    "stime = time.time()\n",
    "solution()\n",
    "print(\"Execution time:\",round(time.time()-stime, 3),'s')"
   ]
  }
 ],
 "metadata": {
  "kernelspec": {
   "display_name": "Python 3",
   "language": "python",
   "name": "python3"
  },
  "language_info": {
   "codemirror_mode": {
    "name": "ipython",
    "version": 3
   },
   "file_extension": ".py",
   "mimetype": "text/x-python",
   "name": "python",
   "nbconvert_exporter": "python",
   "pygments_lexer": "ipython3",
   "version": "3.7.4"
  }
 },
 "nbformat": 4,
 "nbformat_minor": 2
}
