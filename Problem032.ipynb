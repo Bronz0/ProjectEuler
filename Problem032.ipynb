{
 "cells": [
  {
   "cell_type": "code",
   "execution_count": 19,
   "id": "f45b6053",
   "metadata": {},
   "outputs": [
    {
     "name": "stdout",
     "output_type": "stream",
     "text": [
      "45228\n",
      "0.02825164794921875\n"
     ]
    }
   ],
   "source": [
    "import time\n",
    "\n",
    "#time at the start of execution\n",
    "start = time.time()\n",
    "\n",
    "#We will store the products in a set to avoid duplicates\n",
    "products = set()\n",
    "\n",
    "#Digits from 1-9 which will be checking later\n",
    "to_be_checked = set('123456789')\n",
    "\n",
    "#for single digit multiplicand\n",
    "for i in range(9):\n",
    "\tfor j in range(999,9999):\n",
    "\t\ts = str(i)+str(j)+str(i*j)\n",
    "\t\tif len(s) == 9 and set(s) == to_be_checked:\n",
    "\t\t\tproducts.add(i*j)\n",
    "\t\telif len(s) > 9:break\n",
    "\n",
    "#for double digit multiplicand\n",
    "for i in range(9,99):\n",
    "\tfor j in range(99,999):\n",
    "\t\ts = str(i)+str(j)+str(i*j)\n",
    "\t\tif len(s) == 9 and set(s) == to_be_checked:\n",
    "\t\t\tproducts.add(i*j)\n",
    "\t\telif len(s)>9: break\n",
    "\n",
    "#printing the result\n",
    "print(sum(products))\n",
    "\n",
    "#time at the end of execution\n",
    "end = time.time()\n",
    "\n",
    "#total time taken for execution\n",
    "print (end - start)"
   ]
  },
  {
   "cell_type": "code",
   "execution_count": 20,
   "id": "bbe20394",
   "metadata": {},
   "outputs": [
    {
     "data": {
      "text/plain": [
       "{'1', '2', '3', '4', '5', '6', '7', '8', '9'}"
      ]
     },
     "execution_count": 20,
     "metadata": {},
     "output_type": "execute_result"
    }
   ],
   "source": [
    "to_be_checked"
   ]
  }
 ],
 "metadata": {
  "kernelspec": {
   "display_name": "Python 3",
   "language": "python",
   "name": "python3"
  },
  "language_info": {
   "codemirror_mode": {
    "name": "ipython",
    "version": 3
   },
   "file_extension": ".py",
   "mimetype": "text/x-python",
   "name": "python",
   "nbconvert_exporter": "python",
   "pygments_lexer": "ipython3",
   "version": "3.9.5"
  },
  "toc": {
   "base_numbering": 1,
   "nav_menu": {},
   "number_sections": true,
   "sideBar": true,
   "skip_h1_title": false,
   "title_cell": "Table of Contents",
   "title_sidebar": "Contents",
   "toc_cell": false,
   "toc_position": {},
   "toc_section_display": true,
   "toc_window_display": false
  },
  "varInspector": {
   "cols": {
    "lenName": 16,
    "lenType": 16,
    "lenVar": 40
   },
   "kernels_config": {
    "python": {
     "delete_cmd_postfix": "",
     "delete_cmd_prefix": "del ",
     "library": "var_list.py",
     "varRefreshCmd": "print(var_dic_list())"
    },
    "r": {
     "delete_cmd_postfix": ") ",
     "delete_cmd_prefix": "rm(",
     "library": "var_list.r",
     "varRefreshCmd": "cat(var_dic_list()) "
    }
   },
   "types_to_exclude": [
    "module",
    "function",
    "builtin_function_or_method",
    "instance",
    "_Feature"
   ],
   "window_display": false
  }
 },
 "nbformat": 4,
 "nbformat_minor": 5
}
