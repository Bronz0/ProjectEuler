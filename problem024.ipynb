{
 "cells": [
  {
   "cell_type": "markdown",
   "metadata": {},
   "source": [
    "# Method 1\n",
    "using recursion"
   ]
  },
  {
   "cell_type": "code",
   "execution_count": 1,
   "metadata": {},
   "outputs": [],
   "source": [
    "def permutations(string, step = 0):\n",
    "    perms = []\n",
    "    if step == len(string):\n",
    "        # we've gotten to the end, print the permutation\n",
    "        perms.append(\"\".join(string))\n",
    "    for i in range(step, len(string)):\n",
    "        # copy the string (store as array)\n",
    "        string_copy = [c for c in string]\n",
    "         # swap the current index with the step\n",
    "        string_copy[step], string_copy[i] =string_copy[i], string_copy[step]\n",
    "         # recurse on the portion of the stringthat has not been swapped yet\n",
    "        [perms.append(i) for i in permutations(string_copy, step + 1)]\n",
    "    return perms"
   ]
  },
  {
   "cell_type": "code",
   "execution_count": 2,
   "metadata": {
    "scrolled": true
   },
   "outputs": [
    {
     "name": "stdout",
     "output_type": "stream",
     "text": [
      "Result: 2783915460\n",
      "Execution time:  19.987 s\n"
     ]
    }
   ],
   "source": [
    "import time\n",
    "stime = time.time()\n",
    "perms = sorted([int(i) for i in permutations('0123456789')])\n",
    "print('Result:', perms[999999])\n",
    "print('Execution time: ', round(time.time()-stime, 3),'s')"
   ]
  },
  {
   "cell_type": "markdown",
   "metadata": {},
   "source": [
    "# Method 2\n",
    "using python built in method"
   ]
  },
  {
   "cell_type": "code",
   "execution_count": 3,
   "metadata": {},
   "outputs": [
    {
     "name": "stdout",
     "output_type": "stream",
     "text": [
      "Result: 2783915460\n",
      "Execution time:  1.92 s\n"
     ]
    }
   ],
   "source": [
    "from itertools import permutations\n",
    "stime = time.time()\n",
    "perms = sorted([int(''.join(p)) for p in permutations('0123456789')])\n",
    "print('Result:', perms[999999])\n",
    "print('Execution time: ', round(time.time()-stime, 3),'s')"
   ]
  }
 ],
 "metadata": {
  "kernelspec": {
   "display_name": "Python 3",
   "language": "python",
   "name": "python3"
  },
  "language_info": {
   "codemirror_mode": {
    "name": "ipython",
    "version": 3
   },
   "file_extension": ".py",
   "mimetype": "text/x-python",
   "name": "python",
   "nbconvert_exporter": "python",
   "pygments_lexer": "ipython3",
   "version": "3.7.4"
  }
 },
 "nbformat": 4,
 "nbformat_minor": 2
}
